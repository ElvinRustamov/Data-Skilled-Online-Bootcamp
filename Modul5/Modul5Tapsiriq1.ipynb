{
  "cells": [
    {
      "cell_type": "markdown",
      "id": "30eb0ab0-5b72-46e9-9190-4309203e80cb",
      "metadata": {
        "id": "30eb0ab0-5b72-46e9-9190-4309203e80cb"
      },
      "source": [
        "# Tapşırıqlar"
      ]
    },
    {
      "cell_type": "markdown",
      "id": "a783bd53-3cad-413a-b5ce-486c30c48c30",
      "metadata": {
        "id": "a783bd53-3cad-413a-b5ce-486c30c48c30"
      },
      "source": [
        "***\n",
        "## Tapşırıq #1:\n",
        "Create a class called PashaHolding with two instance attributes.\n",
        "1. name\n",
        "2. age"
      ]
    },
    {
      "cell_type": "code",
      "execution_count": 60,
      "id": "ae12b678-f604-445c-8775-24189d50489f",
      "metadata": {
        "id": "ae12b678-f604-445c-8775-24189d50489f"
      },
      "outputs": [],
      "source": [
        "class PashaHolding:\n",
        "  def __init__(self, name, age):\n",
        "    self.name = name\n",
        "    self.age = age"
      ]
    },
    {
      "cell_type": "markdown",
      "id": "4c05589a-7919-4675-9ac0-295a255f5e61",
      "metadata": {
        "id": "4c05589a-7919-4675-9ac0-295a255f5e61"
      },
      "source": [
        "Let's create an instance of a class, pass **Mark**, and **22** to name and age parameters, and print out the instance attributes."
      ]
    },
    {
      "cell_type": "code",
      "execution_count": 61,
      "id": "6e43391c-407c-4426-afc1-f86a082e7309",
      "metadata": {
        "colab": {
          "base_uri": "https://localhost:8080/"
        },
        "id": "6e43391c-407c-4426-afc1-f86a082e7309",
        "outputId": "515f05d9-904a-4c9a-c7f2-6539a1fe3ace"
      },
      "outputs": [
        {
          "output_type": "execute_result",
          "data": {
            "text/plain": [
              "<__main__.PashaHolding at 0x7fcac5974340>"
            ]
          },
          "metadata": {},
          "execution_count": 61
        }
      ],
      "source": [
        "instance_ = PashaHolding(name = 'Mark', age = 22)\n",
        "instance_"
      ]
    },
    {
      "cell_type": "markdown",
      "id": "e2e49e1c-2893-4eb9-a6d1-400413df37f1",
      "metadata": {
        "id": "e2e49e1c-2893-4eb9-a6d1-400413df37f1"
      },
      "source": [
        "***\n",
        "## Tapşırıq #2:\n",
        "Create a class attribute called *parent_company* in the previous class and pass **Pasha Holding** as the value."
      ]
    },
    {
      "cell_type": "code",
      "execution_count": 62,
      "id": "6c1a4aba-ba2f-446b-b835-77f57701894a",
      "metadata": {
        "id": "6c1a4aba-ba2f-446b-b835-77f57701894a"
      },
      "outputs": [],
      "source": [
        "PashaHolding.parent_company = 'Pasha Holding'"
      ]
    },
    {
      "cell_type": "markdown",
      "id": "2de16ccd-36ac-4780-b21c-e97facf404b3",
      "metadata": {
        "id": "2de16ccd-36ac-4780-b21c-e97facf404b3"
      },
      "source": [
        "Let's print out the class attribute directly from the class."
      ]
    },
    {
      "cell_type": "code",
      "execution_count": 63,
      "id": "d964ee21-ea99-43ae-bf1b-e5c3d4f545b7",
      "metadata": {
        "colab": {
          "base_uri": "https://localhost:8080/",
          "height": 35
        },
        "id": "d964ee21-ea99-43ae-bf1b-e5c3d4f545b7",
        "outputId": "d5b1eb44-e7d0-429c-a149-ab236fbf0d99"
      },
      "outputs": [
        {
          "output_type": "execute_result",
          "data": {
            "text/plain": [
              "'Pasha Holding'"
            ],
            "application/vnd.google.colaboratory.intrinsic+json": {
              "type": "string"
            }
          },
          "metadata": {},
          "execution_count": 63
        }
      ],
      "source": [
        "PashaHolding.parent_company"
      ]
    },
    {
      "cell_type": "markdown",
      "id": "e84e3a2e-d5b6-40ae-8244-f55463459a33",
      "metadata": {
        "id": "e84e3a2e-d5b6-40ae-8244-f55463459a33"
      },
      "source": [
        "Let's create an instance of a class, and print out the class attribute."
      ]
    },
    {
      "cell_type": "code",
      "execution_count": 64,
      "id": "8c911efe-153d-4dc0-b330-31795cadb4bf",
      "metadata": {
        "colab": {
          "base_uri": "https://localhost:8080/",
          "height": 35
        },
        "id": "8c911efe-153d-4dc0-b330-31795cadb4bf",
        "outputId": "849e2abf-a65e-4e4f-e0a4-20b1f15574bb"
      },
      "outputs": [
        {
          "output_type": "execute_result",
          "data": {
            "text/plain": [
              "'Pasha Holding'"
            ],
            "application/vnd.google.colaboratory.intrinsic+json": {
              "type": "string"
            }
          },
          "metadata": {},
          "execution_count": 64
        }
      ],
      "source": [
        "instance_2 = PashaHolding(name = 'Name', age = 99)\n",
        "instance_2.parent_company"
      ]
    },
    {
      "cell_type": "markdown",
      "id": "0f9acc31-761d-4a5c-b335-ee0d8df93ffe",
      "metadata": {
        "id": "0f9acc31-761d-4a5c-b335-ee0d8df93ffe"
      },
      "source": [
        "***\n",
        "## Tapşırıq #3:\n",
        "Create an instance method called *get_info*, in the class created in the second task which will return a string like this. ***\"{Whatever name is passed} is {whatever age is passed} years old.\"***"
      ]
    },
    {
      "cell_type": "code",
      "execution_count": 65,
      "id": "a2b6d630-0673-4b2a-ba46-551f23eee92c",
      "metadata": {
        "id": "a2b6d630-0673-4b2a-ba46-551f23eee92c"
      },
      "outputs": [],
      "source": [
        "def get_info(self):\n",
        "  return f'{self.name} is {self.age} years old.'\n",
        "\n",
        "PashaHolding.get_info = get_info"
      ]
    },
    {
      "cell_type": "markdown",
      "id": "89a0b8f0-a82f-4a19-ab99-d7a3e9121f50",
      "metadata": {
        "id": "89a0b8f0-a82f-4a19-ab99-d7a3e9121f50"
      },
      "source": [
        "Let's create an instance of the class and call the instance method."
      ]
    },
    {
      "cell_type": "code",
      "execution_count": 66,
      "id": "22ca1a9c-707e-44b5-9af5-43338454eed4",
      "metadata": {
        "colab": {
          "base_uri": "https://localhost:8080/",
          "height": 35
        },
        "id": "22ca1a9c-707e-44b5-9af5-43338454eed4",
        "outputId": "4450b110-f0c0-47e6-e5db-abf7d19868cd"
      },
      "outputs": [
        {
          "output_type": "execute_result",
          "data": {
            "text/plain": [
              "'X_person is 99 years old.'"
            ],
            "application/vnd.google.colaboratory.intrinsic+json": {
              "type": "string"
            }
          },
          "metadata": {},
          "execution_count": 66
        }
      ],
      "source": [
        "instance_3 = PashaHolding(name = 'X_person', age = 99)\n",
        "instance_3.get_info()"
      ]
    },
    {
      "cell_type": "markdown",
      "id": "e0e87182-bb9d-47d9-b425-b657fbe0ecf4",
      "metadata": {
        "id": "e0e87182-bb9d-47d9-b425-b657fbe0ecf4"
      },
      "source": [
        "***\n",
        "## Tapşırıq #4:\n",
        "Create a static class method called *get_education_level* in the class you created in the third task, which takes ***education_level*** as an argument which is set to *None* by default and this method is supposed to return a string like this. ***\"Employee's education level is {whatever education level is passed}.\"***"
      ]
    },
    {
      "cell_type": "code",
      "execution_count": 67,
      "id": "fd91a90a-24f9-4a06-82bf-b0336efe5964",
      "metadata": {
        "id": "fd91a90a-24f9-4a06-82bf-b0336efe5964"
      },
      "outputs": [],
      "source": [
        "@staticmethod\n",
        "def get_education_level(education_level=None):\n",
        "      return f\"Employee's education level is {education_level}.\"\n",
        "\n",
        "PashaHolding.get_education_level = get_education_level"
      ]
    },
    {
      "cell_type": "markdown",
      "id": "cc9f7206-4195-4245-9641-3ad519a12f75",
      "metadata": {
        "id": "cc9f7206-4195-4245-9641-3ad519a12f75"
      },
      "source": [
        "Let's call the class method directly from the class."
      ]
    },
    {
      "cell_type": "code",
      "execution_count": 68,
      "id": "fbf4cdad-f7a1-4259-8939-ef2c3229d795",
      "metadata": {
        "colab": {
          "base_uri": "https://localhost:8080/",
          "height": 35
        },
        "id": "fbf4cdad-f7a1-4259-8939-ef2c3229d795",
        "outputId": "de7924b1-1ba8-47de-bfe7-51c9db29da41"
      },
      "outputs": [
        {
          "output_type": "execute_result",
          "data": {
            "text/plain": [
              "\"Employee's education level is None.\""
            ],
            "application/vnd.google.colaboratory.intrinsic+json": {
              "type": "string"
            }
          },
          "metadata": {},
          "execution_count": 68
        }
      ],
      "source": [
        "PashaHolding.get_education_level()"
      ]
    },
    {
      "cell_type": "markdown",
      "id": "3d4a10b8-90e4-42f3-a325-e04d28e31c88",
      "metadata": {
        "id": "3d4a10b8-90e4-42f3-a325-e04d28e31c88"
      },
      "source": [
        "Let's create an instance of the class, and call the class method from the instance."
      ]
    },
    {
      "cell_type": "code",
      "execution_count": 69,
      "id": "5926c4d8-0075-4d17-9a8a-af702fb0cf06",
      "metadata": {
        "colab": {
          "base_uri": "https://localhost:8080/",
          "height": 35
        },
        "id": "5926c4d8-0075-4d17-9a8a-af702fb0cf06",
        "outputId": "74279a95-fedd-41b0-da2e-044af38db71f"
      },
      "outputs": [
        {
          "output_type": "execute_result",
          "data": {
            "text/plain": [
              "\"Employee's education level is None.\""
            ],
            "application/vnd.google.colaboratory.intrinsic+json": {
              "type": "string"
            }
          },
          "metadata": {},
          "execution_count": 69
        }
      ],
      "source": [
        "instance_4 = PashaHolding(name = 'X', age = 99)\n",
        "instance_4.get_education_level()"
      ]
    },
    {
      "cell_type": "markdown",
      "id": "e45bbef7-e69d-4758-92f2-13a4af15f565",
      "metadata": {
        "id": "e45bbef7-e69d-4758-92f2-13a4af15f565"
      },
      "source": [
        "***\n",
        "## Tapşırıq #5:\n",
        "Create an instance method called *get_gender* in the class you created in the fourth task, which takes ***gender*** as an argument which is set to *None* by default and this method is supposed to return a string like this. ***\"{Whatever name is passed} is a {whatever gender is passed}.\"***"
      ]
    },
    {
      "cell_type": "code",
      "execution_count": 70,
      "id": "3caaa961-6327-4a13-ad72-1c8308ebab04",
      "metadata": {
        "id": "3caaa961-6327-4a13-ad72-1c8308ebab04"
      },
      "outputs": [],
      "source": [
        "def get_gender(self, gender=None):\n",
        "  return f\"{self.name} is a {gender}.\"\n",
        "\n",
        "PashaHolding.get_gender = get_gender"
      ]
    },
    {
      "cell_type": "markdown",
      "id": "6d180faf-b2c0-4fc6-a195-c83b22d724c4",
      "metadata": {
        "id": "6d180faf-b2c0-4fc6-a195-c83b22d724c4"
      },
      "source": [
        "Let's create an instance of the class and call the instance method."
      ]
    },
    {
      "cell_type": "code",
      "execution_count": 71,
      "id": "7352b9da-a656-49be-9005-4c863c9fac54",
      "metadata": {
        "colab": {
          "base_uri": "https://localhost:8080/"
        },
        "id": "7352b9da-a656-49be-9005-4c863c9fac54",
        "outputId": "df172d8d-c013-4bc6-91c1-49775d0de919"
      },
      "outputs": [
        {
          "output_type": "stream",
          "name": "stdout",
          "text": [
            "Max is a None.\n",
            "Max is a male.\n"
          ]
        }
      ],
      "source": [
        "instance_5 = PashaHolding(name = 'Max', age = 23)\n",
        "print(instance_5.get_gender())\n",
        "\n",
        "print(instance_5.get_gender('male'))"
      ]
    },
    {
      "cell_type": "markdown",
      "id": "1cb91145-e260-4057-845b-402f7986a30b",
      "metadata": {
        "id": "1cb91145-e260-4057-845b-402f7986a30b"
      },
      "source": [
        "***\n",
        "## Tapşırıq #6:\n",
        "Let's define **PashaBank** class that inherits instance & class attributes and methods from **PashaHolding** class."
      ]
    },
    {
      "cell_type": "code",
      "execution_count": 72,
      "id": "88d45cb3-5511-42a5-af34-7730f5680742",
      "metadata": {
        "id": "88d45cb3-5511-42a5-af34-7730f5680742"
      },
      "outputs": [],
      "source": [
        "class PashaBank(PashaHolding):\n",
        "     def __init__(self, name, age):\n",
        "        super().__init__(name, age)"
      ]
    },
    {
      "cell_type": "markdown",
      "id": "ebe5f17d-8cdc-457e-b597-b07523be74c1",
      "metadata": {
        "id": "ebe5f17d-8cdc-457e-b597-b07523be74c1"
      },
      "source": [
        "Let's define a **KapitalBank** class that inherits instance & class attributes and methods from **PashaHolding** class."
      ]
    },
    {
      "cell_type": "code",
      "execution_count": 73,
      "id": "d97f0486-430e-48a5-ae44-d746c9c6aaba",
      "metadata": {
        "id": "d97f0486-430e-48a5-ae44-d746c9c6aaba"
      },
      "outputs": [],
      "source": [
        "class KapitalBank(PashaHolding):\n",
        "     def __init__(self, name, age):\n",
        "        super().__init__(name, age)"
      ]
    },
    {
      "cell_type": "markdown",
      "id": "e789219c-382d-47ad-8f37-60f107cb1a34",
      "metadata": {
        "id": "e789219c-382d-47ad-8f37-60f107cb1a34"
      },
      "source": [
        "Let's create two different instances, one for each child class. Then pass **John**, **25** to the former and **Alice**, **32** to the latter child class. Then create a list of instances, loop through each instance and print instance & class attributes."
      ]
    },
    {
      "cell_type": "code",
      "execution_count": 74,
      "id": "f21c65b2-c98f-42af-b6e6-d4f9d96db7ae",
      "metadata": {
        "colab": {
          "base_uri": "https://localhost:8080/"
        },
        "id": "f21c65b2-c98f-42af-b6e6-d4f9d96db7ae",
        "outputId": "8d990fa2-b065-414e-e567-245c6cbfacbe"
      },
      "outputs": [
        {
          "output_type": "stream",
          "name": "stdout",
          "text": [
            "Instance Attributes:\n",
            "Name: John\n",
            "Age: 25\n",
            "\n",
            "Class Attributes:\n",
            "Parent Company: Pasha Holding\n",
            "*******************\n",
            "Instance Attributes:\n",
            "Name: Alice\n",
            "Age: 32\n",
            "\n",
            "Class Attributes:\n",
            "Parent Company: Pasha Holding\n",
            "*******************\n"
          ]
        }
      ],
      "source": [
        "instance_pasha = PashaBank(name = 'John', age = 25)\n",
        "instance_kapital = KapitalBank(name = 'Alice', age = 32)\n",
        "\n",
        "list_of_instanes = [instance_pasha, instance_kapital]\n",
        "for i in list_of_instanes:\n",
        "    print(\"Instance Attributes:\")\n",
        "    print(f\"Name: {i.name}\")\n",
        "    print(f\"Age: {i.age}\")\n",
        "    print()\n",
        "    print(\"Class Attributes:\")\n",
        "    print(f\"Parent Company: {i.parent_company}\")\n",
        "    print(\"*******************\")"
      ]
    },
    {
      "cell_type": "markdown",
      "id": "178f4a8d-310c-45ea-acab-096a58fd8163",
      "metadata": {
        "id": "178f4a8d-310c-45ea-acab-096a58fd8163"
      },
      "source": [
        "Let's loop through each instance and call the ***get_info()*** function."
      ]
    },
    {
      "cell_type": "code",
      "execution_count": 75,
      "id": "0b3db904-ed40-4bab-acb1-dd35cc8b9af4",
      "metadata": {
        "colab": {
          "base_uri": "https://localhost:8080/"
        },
        "id": "0b3db904-ed40-4bab-acb1-dd35cc8b9af4",
        "outputId": "d91afcb4-eabb-45d8-ad94-67cb1269dddc"
      },
      "outputs": [
        {
          "output_type": "stream",
          "name": "stdout",
          "text": [
            "John is 25 years old.\n",
            "Alice is 32 years old.\n"
          ]
        }
      ],
      "source": [
        "for i in list_of_instanes:\n",
        "  print(i.get_info())"
      ]
    },
    {
      "cell_type": "markdown",
      "id": "e540c9b6-74d6-44d9-a880-358ff5096ab8",
      "metadata": {
        "id": "e540c9b6-74d6-44d9-a880-358ff5096ab8"
      },
      "source": [
        "***\n",
        "## Tapşırıq #7:\n",
        "Let's extend the functionality of the child classes by defining a new instance attribute called ***job_title*** while inheriting from the parent class. In addition let's also create a new instance method called ***get_tenure*** and pass *n_years* as the argument which is set to *None* by default. This instance method is supposed to return a string based on a condition depending on the number of years an employee has spent in the company. If an employee has been working at a company for more than a year, then string should be like ***\"{Whatever name is passed} has been working as {whatever job title is passed} for {whatever number of years is passed} years now.\"***, otherwise it should be like ***\"{Whatever name is passed} has been working as {whatever job title is passed} for a year now.\"***."
      ]
    },
    {
      "cell_type": "code",
      "execution_count": 76,
      "id": "99bb0ee5-c39e-44e9-aa90-fc1aa7cd821a",
      "metadata": {
        "id": "99bb0ee5-c39e-44e9-aa90-fc1aa7cd821a"
      },
      "outputs": [],
      "source": [
        "class PashaBank(PashaHolding):\n",
        "  def __init__(self, name, age, job_title=None):\n",
        "    super().__init__(name, age)\n",
        "    self.job_title = job_title\n",
        "  def get_tenure(self, n_years=None):\n",
        "    if n_years is None:\n",
        "        n_years = 1\n",
        "\n",
        "    if n_years > 1:\n",
        "        return f\"{self.name} has been working as {self.job_title} for {n_years} years now.\"\n",
        "    else:\n",
        "        return f\"{self.name} has been working as {self.job_title} for a year now.\""
      ]
    },
    {
      "cell_type": "markdown",
      "id": "1a318885-92e7-4823-a2b6-d3092753588e",
      "metadata": {
        "id": "1a318885-92e7-4823-a2b6-d3092753588e"
      },
      "source": [
        "Let's do the same for the second child class."
      ]
    },
    {
      "cell_type": "code",
      "execution_count": 77,
      "id": "85fe3d7b-3433-472a-8910-705da81acd44",
      "metadata": {
        "id": "85fe3d7b-3433-472a-8910-705da81acd44"
      },
      "outputs": [],
      "source": [
        "class KapitalBank(PashaHolding):\n",
        "  def __init__(self, name, age, job_title=None):\n",
        "    super().__init__(name, age)\n",
        "    self.job_title = job_title\n",
        "  def get_tenure(self, n_years=None):\n",
        "    if n_years is None:\n",
        "        n_years = 1\n",
        "\n",
        "    if n_years > 1:\n",
        "        return f\"{self.name} has been working as {self.job_title} for {n_years} years now.\"\n",
        "    else:\n",
        "        return f\"{self.name} has been working as {self.job_title} for a year now.\""
      ]
    },
    {
      "cell_type": "markdown",
      "id": "4a650d4b-239c-4d38-b5e6-a3854b12f63e",
      "metadata": {
        "id": "4a650d4b-239c-4d38-b5e6-a3854b12f63e"
      },
      "source": [
        "Let's create two different instances, one for each child class. Then pass **John**, **25** to the former and **Alice**, **32** to the latter child class. Then create a list of instances, loop through each instance and print instance & class attributes."
      ]
    },
    {
      "cell_type": "code",
      "execution_count": 78,
      "id": "e22af70e-5109-4c98-87df-4e585f02a373",
      "metadata": {
        "colab": {
          "base_uri": "https://localhost:8080/"
        },
        "id": "e22af70e-5109-4c98-87df-4e585f02a373",
        "outputId": "2555d126-ad4e-4a79-b567-852f641b10a8"
      },
      "outputs": [
        {
          "output_type": "stream",
          "name": "stdout",
          "text": [
            "Instance Attributes:\n",
            "Name: John\n",
            "Age: 25\n",
            "Job title: None\n",
            "\n",
            "Class Attributes:\n",
            "Parent Company: Pasha Holding\n",
            "*******************\n",
            "Instance Attributes:\n",
            "Name: Alice\n",
            "Age: 32\n",
            "Job title: None\n",
            "\n",
            "Class Attributes:\n",
            "Parent Company: Pasha Holding\n",
            "*******************\n"
          ]
        }
      ],
      "source": [
        "instance_pasha = PashaBank(name = 'John', age = 25)\n",
        "instance_kapital = KapitalBank(name = 'Alice', age = 32)\n",
        "\n",
        "\n",
        "list_of_instanes = [instance_pasha, instance_kapital]\n",
        "for i in list_of_instanes:\n",
        "    print(\"Instance Attributes:\")\n",
        "    print(f\"Name: {i.name}\")\n",
        "    print(f\"Age: {i.age}\")\n",
        "    print(f\"Job title: {i.job_title}\")\n",
        "    print()\n",
        "    print(\"Class Attributes:\")\n",
        "    print(f\"Parent Company: {i.parent_company}\")\n",
        "    print(\"*******************\")"
      ]
    },
    {
      "cell_type": "markdown",
      "id": "a60d78ac-3a40-4388-9e93-9bd3181526a1",
      "metadata": {
        "id": "a60d78ac-3a40-4388-9e93-9bd3181526a1"
      },
      "source": [
        "Let's call the **get_tenure** method for each instance and pass **1** to former and **3** to the latter child instance."
      ]
    },
    {
      "cell_type": "code",
      "execution_count": 79,
      "id": "b4f5d5b2-dac4-4182-b871-279067406e0d",
      "metadata": {
        "colab": {
          "base_uri": "https://localhost:8080/"
        },
        "id": "b4f5d5b2-dac4-4182-b871-279067406e0d",
        "outputId": "16e25848-d3c8-4427-8418-02f5cf6522b4"
      },
      "outputs": [
        {
          "output_type": "stream",
          "name": "stdout",
          "text": [
            "John has been working as None for a year now.\n",
            "Alice has been working as None for 3 years now.\n"
          ]
        }
      ],
      "source": [
        "print(instance_pasha.get_tenure(1))\n",
        "print(instance_kapital.get_tenure(3))"
      ]
    },
    {
      "cell_type": "markdown",
      "id": "0ecf1e52-4e0a-4cb1-81b2-475528e66b4a",
      "metadata": {
        "id": "0ecf1e52-4e0a-4cb1-81b2-475528e66b4a"
      },
      "source": [
        "***\n",
        "## Tapşırıq #8:\n",
        "Let's create a **private** instance attribute called *company* and set the name of the company to that attribute. If an employee has been working at a company for more than a year, then string should be like ***\"{Whatever name is passed} has been working at {whatever company is passed} as {whatever job title is passed} for {whatever number of years is passed} years now.\"***, otherwise it should be like ***\"{Whatever name is passed} has been working at {whatever company is passed} as {whatever job title is passed} for a year now.\"***."
      ]
    },
    {
      "cell_type": "code",
      "execution_count": 80,
      "id": "6a4ee227-1659-4206-ba1d-24c21ee2c6e3",
      "metadata": {
        "id": "6a4ee227-1659-4206-ba1d-24c21ee2c6e3"
      },
      "outputs": [],
      "source": [
        "class PashaBank(PashaHolding):\n",
        "  def __init__(self, name, age, job_title=None, company=None):\n",
        "    super().__init__(name, age)\n",
        "    self.job_title = job_title\n",
        "    self.__company = company\n",
        "  def get_tenure(self, n_years=None):\n",
        "      if n_years is None:\n",
        "          n_years = 1\n",
        "\n",
        "      if n_years > 1:\n",
        "          return f\"{self.name} has been working at {self.__company} as {self.job_title} for {n_years} years now.\"\n",
        "      else:\n",
        "          return f\"{self.name} has been working at {self.__company} as {self.job_title} for a year now.\""
      ]
    },
    {
      "cell_type": "markdown",
      "id": "44eded44-6641-41a0-830d-a129a29e890d",
      "metadata": {
        "id": "44eded44-6641-41a0-830d-a129a29e890d"
      },
      "source": [
        "Let's do the same for the second child class."
      ]
    },
    {
      "cell_type": "code",
      "execution_count": 81,
      "id": "9c23fe4e-6be2-4f56-89cb-5a1f46ac9b33",
      "metadata": {
        "id": "9c23fe4e-6be2-4f56-89cb-5a1f46ac9b33"
      },
      "outputs": [],
      "source": [
        "class KapitalBank(PashaHolding):\n",
        "  def __init__(self, name, age, job_title=None, company=None):\n",
        "    super().__init__(name, age)\n",
        "    self.job_title = job_title\n",
        "    self.__company = company\n",
        "  def get_tenure(self, n_years=None):\n",
        "      if n_years is None:\n",
        "          n_years = 1\n",
        "\n",
        "      if n_years > 1:\n",
        "          return f\"{self.name} has been working at {self.__company} as {self.job_title} for {n_years} years now.\"\n",
        "      else:\n",
        "          return f\"{self.name} has been working at {self.__company} as {self.job_title} for a year now.\""
      ]
    },
    {
      "cell_type": "markdown",
      "id": "263c1805-f95b-424f-a2d0-8f265ae5133e",
      "metadata": {
        "id": "263c1805-f95b-424f-a2d0-8f265ae5133e"
      },
      "source": [
        "Let's create two different instances, one for each child class. Then pass **John**, **25** to the former and **Alice**, **32** to the latter child class. Then create a list of instances."
      ]
    },
    {
      "cell_type": "code",
      "execution_count": 82,
      "id": "4eef9ef9-14a2-4133-af18-18625055a4b5",
      "metadata": {
        "id": "4eef9ef9-14a2-4133-af18-18625055a4b5"
      },
      "outputs": [],
      "source": [
        "instance_pasha = PashaBank(name = 'John', age = 25, company = 'Pasha Bank')\n",
        "instance_kapital = KapitalBank(name = 'Alice', age = 32, company = 'Kapital Bank')\n",
        "\n",
        "\n",
        "list_of_instanes = [instance_pasha, instance_kapital]"
      ]
    },
    {
      "cell_type": "markdown",
      "id": "1196300c-26a7-451b-8c62-6957b85f6726",
      "metadata": {
        "id": "1196300c-26a7-451b-8c62-6957b85f6726"
      },
      "source": [
        "Let's call the **get_tenure** method for each instance and pass **1** to former and **3** to the latter child instance."
      ]
    },
    {
      "cell_type": "code",
      "execution_count": 83,
      "id": "14319dc4-3d54-4589-8b57-8bce569b372a",
      "metadata": {
        "colab": {
          "base_uri": "https://localhost:8080/"
        },
        "id": "14319dc4-3d54-4589-8b57-8bce569b372a",
        "outputId": "e924ca17-2984-4fba-a609-c9a7954a9963"
      },
      "outputs": [
        {
          "output_type": "stream",
          "name": "stdout",
          "text": [
            "John has been working at Pasha Bank as None for a year now.\n",
            "Alice has been working at Kapital Bank as None for 3 years now.\n"
          ]
        }
      ],
      "source": [
        "print(instance_pasha.get_tenure(1))\n",
        "print(instance_kapital.get_tenure(3))"
      ]
    },
    {
      "cell_type": "markdown",
      "id": "64d4b117-74e0-4a97-818f-8688bcc80e0c",
      "metadata": {
        "id": "64d4b117-74e0-4a97-818f-8688bcc80e0c"
      },
      "source": [
        "***\n",
        "## Tapşırıq #9:\n",
        "Let's create a **protected** instance attribute called *salary* which is set to *None* by default. Let's create a **setter** function called ***set_salary*** which takes initial value as an argument and assign it to a protected variable. Let's also create a **getter** function called ***get_salary*** which returns the salary set by the HR team."
      ]
    },
    {
      "cell_type": "code",
      "execution_count": 84,
      "id": "24884dac-3be1-41fb-af35-73b36670aa75",
      "metadata": {
        "id": "24884dac-3be1-41fb-af35-73b36670aa75"
      },
      "outputs": [],
      "source": [
        "class PashaBank(PashaHolding):\n",
        "  def __init__(self, name, age, job_title=None, company=None, salary = None):\n",
        "    super().__init__(name, age)\n",
        "    self.job_title = job_title\n",
        "    self._salary = salary\n",
        "    self.__company = company\n",
        "\n",
        "  def set_salary(self, initial_value):\n",
        "      self._salary = initial_value\n",
        "\n",
        "  def get_salary(self):\n",
        "      return self._salary\n",
        "\n",
        "  def get_tenure(self, n_years=None):\n",
        "      if n_years is None:\n",
        "          n_years = 1\n",
        "\n",
        "      if n_years > 1:\n",
        "          return f\"{self.name} has been working at {self.__company} as {self.job_title} for {n_years} years now.\"\n",
        "      else:\n",
        "          return f\"{self.name} has been working at {self.__company} as {self.job_title} for a year now.\""
      ]
    },
    {
      "cell_type": "markdown",
      "id": "7960e56f-8e34-46e2-9081-6adb74247b8e",
      "metadata": {
        "id": "7960e56f-8e34-46e2-9081-6adb74247b8e"
      },
      "source": [
        "Let's do the same for the second child class."
      ]
    },
    {
      "cell_type": "code",
      "execution_count": 85,
      "id": "cb4b8029-e9ff-47db-bf2f-72a99bff9224",
      "metadata": {
        "id": "cb4b8029-e9ff-47db-bf2f-72a99bff9224"
      },
      "outputs": [],
      "source": [
        "class KapitalBank(PashaHolding):\n",
        "  def __init__(self, name, age, job_title=None, company=None, salary = None):\n",
        "    super().__init__(name, age)\n",
        "    self.job_title = job_title\n",
        "    self._salary = salary\n",
        "    self.__company = company\n",
        "\n",
        "  def set_salary(self, initial_value):\n",
        "      self._salary = initial_value\n",
        "\n",
        "  def get_salary(self):\n",
        "      return self._salary\n",
        "\n",
        "  def get_tenure(self, n_years=None):\n",
        "      if n_years is None:\n",
        "          n_years = 1\n",
        "\n",
        "      if n_years > 1:\n",
        "          return f\"{self.name} has been working at {self.__company} as {self.job_title} for {n_years} years now.\"\n",
        "      else:\n",
        "          return f\"{self.name} has been working at {self.__company} as {self.job_title} for a year now.\""
      ]
    },
    {
      "cell_type": "markdown",
      "id": "c47f46e8-8656-40d0-9762-62772274569c",
      "metadata": {
        "id": "c47f46e8-8656-40d0-9762-62772274569c"
      },
      "source": [
        "Let's create two different instances, one for each child class. Then pass **John**, **25** to the former and **Alice**, **32** to the latter child class. Then set **2500** to the former and **3200** to the latter child instance. Then create a list of instances, loop through each instance and call the getter function."
      ]
    },
    {
      "cell_type": "code",
      "execution_count": 90,
      "id": "5e24af55-0dea-4823-a776-a2fac46170f1",
      "metadata": {
        "colab": {
          "base_uri": "https://localhost:8080/"
        },
        "id": "5e24af55-0dea-4823-a776-a2fac46170f1",
        "outputId": "3f110fc8-4cdc-4418-db65-c03f6305650d"
      },
      "outputs": [
        {
          "output_type": "stream",
          "name": "stdout",
          "text": [
            "Name: John, Salary:2500\n",
            "Name: Alice, Salary:3200\n"
          ]
        }
      ],
      "source": [
        "instance_pasha = PashaBank(name = 'John', age = 25, company = 'Pasha Bank', salary = 2500)\n",
        "instance_kapital = KapitalBank(name = 'Alice', age = 32, company = 'Kapital Bank', salary = 3200)\n",
        "\n",
        "\n",
        "list_of_instanes = [instance_pasha, instance_kapital]\n",
        "for i in list_of_instanes:\n",
        "  print(f\"Name: {i.name}, Salary:{i.get_salary()}\")"
      ]
    },
    {
      "cell_type": "markdown",
      "id": "6ea936ef-0802-46f7-a04e-d2ea2fd5c898",
      "metadata": {
        "id": "6ea936ef-0802-46f7-a04e-d2ea2fd5c898"
      },
      "source": [
        "Set **1200** to the former and **1500** to the latter child instance."
      ]
    },
    {
      "cell_type": "code",
      "execution_count": 92,
      "id": "bc6030fd-ac59-4338-98bb-dad963da9dc8",
      "metadata": {
        "colab": {
          "base_uri": "https://localhost:8080/"
        },
        "id": "bc6030fd-ac59-4338-98bb-dad963da9dc8",
        "outputId": "09202c8a-b5e6-458d-ca8f-de1e1688b9c9"
      },
      "outputs": [
        {
          "output_type": "stream",
          "name": "stdout",
          "text": [
            "1200\n",
            "1500\n"
          ]
        }
      ],
      "source": [
        "instance_pasha.set_salary(initial_value = 1200)\n",
        "instance_kapital.set_salary(initial_value = 1500)\n",
        "\n",
        "print(instance_pasha.get_salary())\n",
        "print(instance_kapital.get_salary())"
      ]
    },
    {
      "cell_type": "markdown",
      "id": "ae77b13a-8474-4974-bf75-182c2222eed0",
      "metadata": {
        "id": "ae77b13a-8474-4974-bf75-182c2222eed0"
      },
      "source": [
        "***\n",
        "## Tapşırıq #10:\n",
        "Let's create **setter** and **getter** functions using **decorators**."
      ]
    },
    {
      "cell_type": "code",
      "execution_count": 93,
      "id": "df9b3692-95f4-46a3-82ce-6e9e0e0e9b65",
      "metadata": {
        "id": "df9b3692-95f4-46a3-82ce-6e9e0e0e9b65"
      },
      "outputs": [],
      "source": [
        "class PashaBank(PashaHolding):\n",
        "  def __init__(self, name, age, job_title=None, company=None, salary = None):\n",
        "    super().__init__(name, age)\n",
        "    self.job_title = job_title\n",
        "    self._salary = salary\n",
        "    self.__company = company\n",
        "\n",
        "  def set_salary(self, initial_value):\n",
        "      self._salary = initial_value\n",
        "\n",
        "  def get_salary(self):\n",
        "      return self._salary\n",
        "\n",
        "  @property\n",
        "  def salary(self):\n",
        "      return self._salary\n",
        "\n",
        "  @salary.setter\n",
        "  def salary(self, initial_value):\n",
        "      self._salary = initial_value\n",
        "\n",
        "  def get_tenure(self, n_years=None):\n",
        "      if n_years is None:\n",
        "          n_years = 1\n",
        "\n",
        "      if n_years > 1:\n",
        "          return f\"{self.name} has been working at {self.__company} as {self.job_title} for {n_years} years now.\"\n",
        "      else:\n",
        "          return f\"{self.name} has been working at {self.__company} as {self.job_title} for a year now.\""
      ]
    },
    {
      "cell_type": "markdown",
      "id": "29aeab01-2d34-4f91-a589-b66f1bf58a95",
      "metadata": {
        "id": "29aeab01-2d34-4f91-a589-b66f1bf58a95"
      },
      "source": [
        "Let's do the same for the second child class."
      ]
    },
    {
      "cell_type": "code",
      "execution_count": 94,
      "id": "663b6fa9-252d-41a9-939f-dc096922810b",
      "metadata": {
        "id": "663b6fa9-252d-41a9-939f-dc096922810b"
      },
      "outputs": [],
      "source": [
        "class KapitalBank(PashaHolding):\n",
        "  def __init__(self, name, age, job_title=None, company=None, salary = None):\n",
        "    super().__init__(name, age)\n",
        "    self.job_title = job_title\n",
        "    self._salary = salary\n",
        "    self.__company = company\n",
        "\n",
        "  def set_salary(self, initial_value):\n",
        "      self._salary = initial_value\n",
        "\n",
        "  def get_salary(self):\n",
        "      return self._salary\n",
        "\n",
        "  @property\n",
        "  def salary(self):\n",
        "      return self._salary\n",
        "\n",
        "  @salary.setter\n",
        "  def salary(self, initial_value):\n",
        "      self._salary = initial_value\n",
        "\n",
        "  def get_tenure(self, n_years=None):\n",
        "      if n_years is None:\n",
        "          n_years = 1\n",
        "\n",
        "      if n_years > 1:\n",
        "          return f\"{self.name} has been working at {self.__company} as {self.job_title} for {n_years} years now.\"\n",
        "      else:\n",
        "          return f\"{self.name} has been working at {self.__company} as {self.job_title} for a year now.\""
      ]
    },
    {
      "cell_type": "markdown",
      "id": "96588b9e-727b-4240-a8a9-b78125a651bb",
      "metadata": {
        "id": "96588b9e-727b-4240-a8a9-b78125a651bb"
      },
      "source": [
        "Let's create two different instances, one for each child class. Then pass **John**, **25** to the former and **Alice**, **32** to the latter child class. Then set **2500** to the former and **3200** to the latter child instance. Then create a list of instances, loop through each instance and call the getter function."
      ]
    },
    {
      "cell_type": "code",
      "execution_count": 96,
      "id": "cdf0a0cf-3f8a-4fd1-832c-62cdf293fb1e",
      "metadata": {
        "colab": {
          "base_uri": "https://localhost:8080/"
        },
        "id": "cdf0a0cf-3f8a-4fd1-832c-62cdf293fb1e",
        "outputId": "94bb52ba-b946-49b2-ea0a-7a618c731b5c"
      },
      "outputs": [
        {
          "output_type": "stream",
          "name": "stdout",
          "text": [
            "Name: John, Salary:2500\n",
            "Name: Alice, Salary:3200\n"
          ]
        }
      ],
      "source": [
        "instance_pasha = PashaBank(name = 'John', age = 25, company = 'Pasha Bank')\n",
        "instance_kapital = KapitalBank(name = 'Alice', age = 32, company = 'Kapital Bank')\n",
        "\n",
        "instance_pasha.salary = 2500\n",
        "instance_kapital.salary = 3200\n",
        "\n",
        "\n",
        "list_of_instanes = [instance_pasha, instance_kapital]\n",
        "for i in list_of_instanes:\n",
        "  print(f\"Name: {i.name}, Salary:{i.get_salary()}\")"
      ]
    },
    {
      "cell_type": "markdown",
      "id": "ad7a6eff-7469-41d4-9ab4-6a3ec584f7d6",
      "metadata": {
        "id": "ad7a6eff-7469-41d4-9ab4-6a3ec584f7d6"
      },
      "source": [
        "Set **1200** to the former and **1500** to the latter child instance."
      ]
    },
    {
      "cell_type": "code",
      "execution_count": 97,
      "id": "445d3f25-4095-4386-9a3c-00d67a93fd56",
      "metadata": {
        "colab": {
          "base_uri": "https://localhost:8080/"
        },
        "id": "445d3f25-4095-4386-9a3c-00d67a93fd56",
        "outputId": "cd739fb8-8ed4-4ae9-85f1-0ed017fb557c"
      },
      "outputs": [
        {
          "output_type": "stream",
          "name": "stdout",
          "text": [
            "1200\n",
            "1500\n"
          ]
        }
      ],
      "source": [
        "instance_pasha.set_salary(initial_value = 1200)\n",
        "instance_kapital.set_salary(initial_value = 1500)\n",
        "\n",
        "print(instance_pasha.get_salary())\n",
        "print(instance_kapital.get_salary())"
      ]
    },
    {
      "cell_type": "code",
      "source": [
        "print(instance_pasha.salary)\n",
        "print(instance_kapital.salary)"
      ],
      "metadata": {
        "colab": {
          "base_uri": "https://localhost:8080/"
        },
        "id": "2hGN-2UwwD3q",
        "outputId": "7ed231f8-e9c5-4b25-83c2-ee36fb19222a"
      },
      "id": "2hGN-2UwwD3q",
      "execution_count": 99,
      "outputs": [
        {
          "output_type": "stream",
          "name": "stdout",
          "text": [
            "1200\n",
            "1500\n"
          ]
        }
      ]
    }
  ],
  "metadata": {
    "kernelspec": {
      "display_name": "Python 3 (ipykernel)",
      "language": "python",
      "name": "python3"
    },
    "language_info": {
      "codemirror_mode": {
        "name": "ipython",
        "version": 3
      },
      "file_extension": ".py",
      "mimetype": "text/x-python",
      "name": "python",
      "nbconvert_exporter": "python",
      "pygments_lexer": "ipython3",
      "version": "3.9.7"
    },
    "colab": {
      "provenance": []
    }
  },
  "nbformat": 4,
  "nbformat_minor": 5
}
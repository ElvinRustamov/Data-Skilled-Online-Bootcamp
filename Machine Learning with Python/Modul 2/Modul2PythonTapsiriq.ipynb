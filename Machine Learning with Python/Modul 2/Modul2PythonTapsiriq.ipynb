{
 "cells": [
  {
   "cell_type": "markdown",
   "id": "5f81701e-13ad-4b38-bfb1-12b7ac93f9ac",
   "metadata": {
    "id": "5f81701e-13ad-4b38-bfb1-12b7ac93f9ac"
   },
   "source": [
    "# Modul #2 Tapşırıqları"
   ]
  },
  {
   "cell_type": "code",
   "execution_count": 1,
   "id": "9d432939-b652-4ae2-aa97-6d32e84096a3",
   "metadata": {
    "id": "9d432939-b652-4ae2-aa97-6d32e84096a3"
   },
   "outputs": [],
   "source": [
    "# Lazım olan kitabxanalar\n",
    "import numpy as np\n",
    "import warnings"
   ]
  },
  {
   "cell_type": "code",
   "execution_count": 2,
   "id": "f8c25a02-e4b9-44df-96d0-ff2056f73623",
   "metadata": {
    "id": "f8c25a02-e4b9-44df-96d0-ff2056f73623"
   },
   "outputs": [],
   "source": [
    "warnings.filterwarnings(action = 'ignore')\n",
    "np.random.seed(seed = 42)"
   ]
  },
  {
   "cell_type": "markdown",
   "id": "e126c073-7407-4aea-aeae-145489c8d1dc",
   "metadata": {
    "id": "e126c073-7407-4aea-aeae-145489c8d1dc"
   },
   "source": [
    "***\n",
    "### Tapşırıq #1\n",
    "- Tək dəyərlərdən ibarət (1 dən 100-ə kimi) array data strukturu yarat"
   ]
  },
  {
   "cell_type": "code",
   "execution_count": 29,
   "id": "99e1aea4-e6d4-403e-b98d-60402f330056",
   "metadata": {
    "colab": {
     "base_uri": "https://localhost:8080/"
    },
    "id": "99e1aea4-e6d4-403e-b98d-60402f330056",
    "outputId": "899d118a-e5ba-4f87-f38f-9fbaf8d29a5a"
   },
   "outputs": [
    {
     "output_type": "execute_result",
     "data": {
      "text/plain": [
       "array([ 1,  3,  5,  7,  9, 11, 13, 15, 17, 19, 21, 23, 25, 27, 29, 31, 33,\n",
       "       35, 37, 39, 41, 43, 45, 47, 49, 51, 53, 55, 57, 59, 61, 63, 65, 67,\n",
       "       69, 71, 73, 75, 77, 79, 81, 83, 85, 87, 89, 91, 93, 95, 97, 99])"
      ]
     },
     "metadata": {},
     "execution_count": 29
    }
   ],
   "source": [
    "array = np.arange(start=1, stop=100, step=2)\n",
    "array"
   ]
  },
  {
   "cell_type": "markdown",
   "id": "d38dabe0-976d-4032-92b9-2f87b3ad5905",
   "metadata": {
    "id": "d38dabe0-976d-4032-92b9-2f87b3ad5905"
   },
   "source": [
    "- Yaradılan həmin array data strukturunu 5 sətir və 10 sütun halına sal"
   ]
  },
  {
   "cell_type": "code",
   "execution_count": 30,
   "id": "4af52fa5-b8e8-4299-934c-3b73f2e5c64a",
   "metadata": {
    "colab": {
     "base_uri": "https://localhost:8080/"
    },
    "id": "4af52fa5-b8e8-4299-934c-3b73f2e5c64a",
    "outputId": "fcc06834-7b76-41e3-a34c-7abff02eae73"
   },
   "outputs": [
    {
     "output_type": "execute_result",
     "data": {
      "text/plain": [
       "array([[ 1,  3,  5,  7,  9, 11, 13, 15, 17, 19],\n",
       "       [21, 23, 25, 27, 29, 31, 33, 35, 37, 39],\n",
       "       [41, 43, 45, 47, 49, 51, 53, 55, 57, 59],\n",
       "       [61, 63, 65, 67, 69, 71, 73, 75, 77, 79],\n",
       "       [81, 83, 85, 87, 89, 91, 93, 95, 97, 99]])"
      ]
     },
     "metadata": {},
     "execution_count": 30
    }
   ],
   "source": [
    "array = np.reshape(array, newshape=(5,10))\n",
    "#array = array.reshape((5, 10))\n",
    "array"
   ]
  },
  {
   "cell_type": "markdown",
   "id": "90028f0b-57df-4579-9079-dd903a9637b6",
   "metadata": {
    "id": "90028f0b-57df-4579-9079-dd903a9637b6"
   },
   "source": [
    "- Array data strukturunda olan dəyərlərin sırasını random şəkildə qarışdır"
   ]
  },
  {
   "cell_type": "code",
   "execution_count": 31,
   "id": "34bdb9dc-cf8e-4bc1-8d3d-55dca52771db",
   "metadata": {
    "colab": {
     "base_uri": "https://localhost:8080/"
    },
    "id": "34bdb9dc-cf8e-4bc1-8d3d-55dca52771db",
    "outputId": "bf670004-b050-45cb-cf87-df27de8ff8b1"
   },
   "outputs": [
    {
     "output_type": "execute_result",
     "data": {
      "text/plain": [
       "array([[ 1,  3,  5,  7,  9, 11, 13, 15, 17, 19],\n",
       "       [21, 23, 25, 27, 29, 31, 33, 35, 37, 39],\n",
       "       [41, 43, 45, 47, 49, 51, 53, 55, 57, 59],\n",
       "       [61, 63, 65, 67, 69, 71, 73, 75, 77, 79],\n",
       "       [81, 83, 85, 87, 89, 91, 93, 95, 97, 99]])"
      ]
     },
     "metadata": {},
     "execution_count": 31
    }
   ],
   "source": [
    "# kodu bu şərhin altına yaz\n",
    "np.random.shuffle(array)\n",
    "\n",
    "array"
   ]
  },
  {
   "cell_type": "markdown",
   "id": "c19e9813-7b03-4698-b9a5-80f0abae9ac3",
   "metadata": {
    "id": "c19e9813-7b03-4698-b9a5-80f0abae9ac3"
   },
   "source": [
    "- Array data strukturunda olan dəyərlərin sırasını əvvəlki ardıcıllığa uygun olaraq dəyişdir"
   ]
  },
  {
   "cell_type": "code",
   "execution_count": 32,
   "id": "a27dbe05-3595-4dd8-b426-bf0cbf01952d",
   "metadata": {
    "colab": {
     "base_uri": "https://localhost:8080/"
    },
    "id": "a27dbe05-3595-4dd8-b426-bf0cbf01952d",
    "outputId": "bc504ee5-efba-448f-ff74-2ac90c4828f0"
   },
   "outputs": [
    {
     "output_type": "execute_result",
     "data": {
      "text/plain": [
       "array([[ 1,  3,  5,  7,  9, 11, 13, 15, 17, 19],\n",
       "       [21, 23, 25, 27, 29, 31, 33, 35, 37, 39],\n",
       "       [41, 43, 45, 47, 49, 51, 53, 55, 57, 59],\n",
       "       [61, 63, 65, 67, 69, 71, 73, 75, 77, 79],\n",
       "       [81, 83, 85, 87, 89, 91, 93, 95, 97, 99]])"
      ]
     },
     "metadata": {},
     "execution_count": 32
    }
   ],
   "source": [
    "array = np.sort(array, axis=0)\n",
    "array "
   ]
  },
  {
   "cell_type": "markdown",
   "id": "698b13f0-65f6-4458-a0b7-25bed9307283",
   "metadata": {
    "id": "698b13f0-65f6-4458-a0b7-25bed9307283"
   },
   "source": [
    "- Array data strukturunu düzləşdir yəni ilk yaradıldığı hala qaytar"
   ]
  },
  {
   "cell_type": "code",
   "execution_count": 34,
   "id": "7d667e34-0383-4751-863e-e9a389cbd264",
   "metadata": {
    "colab": {
     "base_uri": "https://localhost:8080/"
    },
    "id": "7d667e34-0383-4751-863e-e9a389cbd264",
    "outputId": "1236f314-94c0-4c98-cefb-7988ab5bc0ce"
   },
   "outputs": [
    {
     "output_type": "execute_result",
     "data": {
      "text/plain": [
       "array([ 1,  3,  5,  7,  9, 11, 13, 15, 17, 19, 21, 23, 25, 27, 29, 31, 33,\n",
       "       35, 37, 39, 41, 43, 45, 47, 49, 51, 53, 55, 57, 59, 61, 63, 65, 67,\n",
       "       69, 71, 73, 75, 77, 79, 81, 83, 85, 87, 89, 91, 93, 95, 97, 99])"
      ]
     },
     "metadata": {},
     "execution_count": 34
    }
   ],
   "source": [
    "array = array.flatten()\n",
    "array"
   ]
  },
  {
   "cell_type": "markdown",
   "id": "ee5f1193-4f23-4c95-ba4d-b73371fddc6c",
   "metadata": {
    "tags": [],
    "id": "ee5f1193-4f23-4c95-ba4d-b73371fddc6c"
   },
   "source": [
    "- Array data strukturunda olan dəyərlərdən 50-dən böyük olan dəyərləri filterlə "
   ]
  },
  {
   "cell_type": "code",
   "execution_count": 35,
   "id": "b3534cc3-970f-4cda-ab8f-126e024eb82f",
   "metadata": {
    "colab": {
     "base_uri": "https://localhost:8080/"
    },
    "id": "b3534cc3-970f-4cda-ab8f-126e024eb82f",
    "outputId": "f19f5dfc-c67a-4b6e-bba9-a05d7f0a4dfd"
   },
   "outputs": [
    {
     "output_type": "execute_result",
     "data": {
      "text/plain": [
       "array([51, 53, 55, 57, 59, 61, 63, 65, 67, 69, 71, 73, 75, 77, 79, 81, 83,\n",
       "       85, 87, 89, 91, 93, 95, 97, 99])"
      ]
     },
     "metadata": {},
     "execution_count": 35
    }
   ],
   "source": [
    "array = array[array > 50]\n",
    "array"
   ]
  },
  {
   "cell_type": "markdown",
   "id": "a1415d0f-aacb-4567-aa4f-09e7cd261ab3",
   "metadata": {
    "id": "a1415d0f-aacb-4567-aa4f-09e7cd261ab3"
   },
   "source": [
    "***\n",
    "### Tapşırıq #2\n",
    "- Bütün dəyərləri 0-dan ibarət olan int64 data növlü 3 sətir və 4 sütundan ibarət array yarat "
   ]
  },
  {
   "cell_type": "code",
   "execution_count": 39,
   "id": "237e0a8a-9339-4de0-82ec-10af6b3b7c81",
   "metadata": {
    "colab": {
     "base_uri": "https://localhost:8080/"
    },
    "id": "237e0a8a-9339-4de0-82ec-10af6b3b7c81",
    "outputId": "cd64c581-8c47-4daa-9573-33cda0b054f5"
   },
   "outputs": [
    {
     "output_type": "execute_result",
     "data": {
      "text/plain": [
       "array([[0, 0, 0, 0],\n",
       "       [0, 0, 0, 0],\n",
       "       [0, 0, 0, 0]])"
      ]
     },
     "metadata": {},
     "execution_count": 39
    }
   ],
   "source": [
    "zeros = np.zeros(shape = (3, 4), dtype = 'int64')\n",
    "zeros"
   ]
  },
  {
   "cell_type": "markdown",
   "id": "a6a5f539-5c73-4289-84cf-354ca6b94e70",
   "metadata": {
    "id": "a6a5f539-5c73-4289-84cf-354ca6b94e70"
   },
   "source": [
    "- Bütün dəyərləri 1-dan ibarət olan int64 data növlü 3 sətir və 4 sütundan ibarət array yarat "
   ]
  },
  {
   "cell_type": "code",
   "execution_count": 40,
   "id": "607e8664-9135-4749-ac66-5f0abde66aec",
   "metadata": {
    "colab": {
     "base_uri": "https://localhost:8080/"
    },
    "id": "607e8664-9135-4749-ac66-5f0abde66aec",
    "outputId": "7d7b7985-4633-4bb3-e57c-8728b9d16eec"
   },
   "outputs": [
    {
     "output_type": "execute_result",
     "data": {
      "text/plain": [
       "array([[1, 1, 1, 1],\n",
       "       [1, 1, 1, 1],\n",
       "       [1, 1, 1, 1]])"
      ]
     },
     "metadata": {},
     "execution_count": 40
    }
   ],
   "source": [
    "ones = np.ones(shape = (3, 4), dtype = 'int64')\n",
    "ones"
   ]
  },
  {
   "cell_type": "markdown",
   "id": "b063a86e-9795-40d6-910f-41f6a0c6a0db",
   "metadata": {
    "id": "b063a86e-9795-40d6-910f-41f6a0c6a0db"
   },
   "source": [
    "- Hər iki array-i vertikal şəkildə birləşdir (birləşdirmə zamanı array sırasının fərqi yoxdur)"
   ]
  },
  {
   "cell_type": "code",
   "execution_count": 57,
   "id": "46dc9df6-0528-4f42-b4cb-4264abb30b91",
   "metadata": {
    "colab": {
     "base_uri": "https://localhost:8080/"
    },
    "id": "46dc9df6-0528-4f42-b4cb-4264abb30b91",
    "outputId": "29d1c52d-e918-4bc8-df90-8d194ffa85ad"
   },
   "outputs": [
    {
     "output_type": "execute_result",
     "data": {
      "text/plain": [
       "array([[0, 0, 0, 0],\n",
       "       [0, 0, 0, 0],\n",
       "       [0, 0, 0, 0],\n",
       "       [1, 1, 1, 1],\n",
       "       [1, 1, 1, 1],\n",
       "       [1, 1, 1, 1]])"
      ]
     },
     "metadata": {},
     "execution_count": 57
    }
   ],
   "source": [
    "combined_array = np.vstack(tup=(zeros, ones))\n",
    "#combined_array = np.concatenate([zeros, ones])\n",
    "combined_array"
   ]
  },
  {
   "cell_type": "markdown",
   "id": "a3ae78d8-d14d-4f98-ab51-ba1d10d5f006",
   "metadata": {
    "id": "a3ae78d8-d14d-4f98-ab51-ba1d10d5f006"
   },
   "source": [
    "- Birləşdirilən array data strukturunda olan sətirlərin sayı qədər dəyərdən ibarət olan ardıcıl şəkildə düzülmüş array yarat (0-dan başlayır ilk dəyər)"
   ]
  },
  {
   "cell_type": "code",
   "execution_count": 58,
   "id": "12ea5c90-05d3-40a6-a7e4-fbcba95437ba",
   "metadata": {
    "colab": {
     "base_uri": "https://localhost:8080/"
    },
    "id": "12ea5c90-05d3-40a6-a7e4-fbcba95437ba",
    "outputId": "a3c9b5bb-1031-4135-9378-148193f3d2cc"
   },
   "outputs": [
    {
     "output_type": "execute_result",
     "data": {
      "text/plain": [
       "array([ 0,  1,  2,  3,  4,  5,  6,  7,  8,  9, 10, 11, 12, 13, 14, 15, 16,\n",
       "       17, 18, 19, 20, 21, 22, 23])"
      ]
     },
     "metadata": {},
     "execution_count": 58
    }
   ],
   "source": [
    "new_array = np.arange(combined_array.shape[0] * combined_array.shape[1])\n",
    "new_array"
   ]
  },
  {
   "cell_type": "markdown",
   "id": "9cc272ea-bae1-42c0-b1d9-084a4dae752a",
   "metadata": {
    "id": "9cc272ea-bae1-42c0-b1d9-084a4dae752a"
   },
   "source": [
    "- Yeni yaradılan arrayin ölçüsünü dəyişərək dəyərlərin sayı qədər sətir yarat, yəni hər bir dəyər bir sətir olsun"
   ]
  },
  {
   "cell_type": "code",
   "execution_count": 59,
   "id": "ceee6425-60ab-41de-a6a1-232ceb5547bd",
   "metadata": {
    "colab": {
     "base_uri": "https://localhost:8080/"
    },
    "id": "ceee6425-60ab-41de-a6a1-232ceb5547bd",
    "outputId": "d4c2f279-144d-4fbf-8899-daad0f78716e"
   },
   "outputs": [
    {
     "output_type": "execute_result",
     "data": {
      "text/plain": [
       "array([[ 0],\n",
       "       [ 1],\n",
       "       [ 2],\n",
       "       [ 3],\n",
       "       [ 4],\n",
       "       [ 5],\n",
       "       [ 6],\n",
       "       [ 7],\n",
       "       [ 8],\n",
       "       [ 9],\n",
       "       [10],\n",
       "       [11],\n",
       "       [12],\n",
       "       [13],\n",
       "       [14],\n",
       "       [15],\n",
       "       [16],\n",
       "       [17],\n",
       "       [18],\n",
       "       [19],\n",
       "       [20],\n",
       "       [21],\n",
       "       [22],\n",
       "       [23]])"
      ]
     },
     "metadata": {},
     "execution_count": 59
    }
   ],
   "source": [
    "new_array = new_array.reshape((combined_array.shape[0] * combined_array.shape[1], 1))\n",
    "new_array"
   ]
  },
  {
   "cell_type": "markdown",
   "id": "e740b4c4-c479-4204-8c15-338dccd3823b",
   "metadata": {
    "id": "e740b4c4-c479-4204-8c15-338dccd3823b"
   },
   "source": [
    "- Bu arrayi **combined_array**-ə horizontal şəkildə birləşdir"
   ]
  },
  {
   "cell_type": "code",
   "execution_count": 65,
   "id": "c2241ea0-02e6-4fe3-a849-72180f36fb8b",
   "metadata": {
    "colab": {
     "base_uri": "https://localhost:8080/"
    },
    "id": "c2241ea0-02e6-4fe3-a849-72180f36fb8b",
    "outputId": "dcb801bc-21ee-40e6-b030-8e6ced8fc9c9"
   },
   "outputs": [
    {
     "output_type": "execute_result",
     "data": {
      "text/plain": [
       "array([[ 0,  0,  0,  0,  0,  0,  0,  0,  0,  0,  0,  0,  1,  1,  1,  1,\n",
       "         1,  1,  1,  1,  1,  1,  1,  1,  0,  1,  2,  3,  4,  5,  6,  7,\n",
       "         8,  9, 10, 11, 12, 13, 14, 15, 16, 17, 18, 19, 20, 21, 22, 23]])"
      ]
     },
     "metadata": {},
     "execution_count": 65
    }
   ],
   "source": [
    "array = np.hstack(tup=(combined_array.reshape(1, -1), new_array.reshape(1, -1)))\n",
    "# array = np.concatenate([combined_array.reshape(1, -1), new_array.reshape(1, -1)], axis=1)\n",
    "array"
   ]
  },
  {
   "cell_type": "markdown",
   "id": "1a0464e4-bfb0-4990-acfa-c6ea00601174",
   "metadata": {
    "id": "1a0464e4-bfb0-4990-acfa-c6ea00601174"
   },
   "source": [
    "- Horizontal şəkildə birləşdirilmiş array-dən unikal dəyərlərdən ibarət yeni array yarat"
   ]
  },
  {
   "cell_type": "code",
   "execution_count": 68,
   "id": "00544657-ea4e-498f-b066-e60dd40f8195",
   "metadata": {
    "colab": {
     "base_uri": "https://localhost:8080/"
    },
    "id": "00544657-ea4e-498f-b066-e60dd40f8195",
    "outputId": "b3e9a623-60f9-4775-b1b8-3e06c8213fd7"
   },
   "outputs": [
    {
     "output_type": "execute_result",
     "data": {
      "text/plain": [
       "array([ 0,  1,  2,  3,  4,  5,  6,  7,  8,  9, 10, 11, 12, 13, 14, 15, 16,\n",
       "       17, 18, 19, 20, 21, 22, 23])"
      ]
     },
     "metadata": {},
     "execution_count": 68
    }
   ],
   "source": [
    "unique_array = np.unique(ar=array)\n",
    "unique_array"
   ]
  },
  {
   "cell_type": "markdown",
   "id": "72bee095-9dd9-40ac-bdf8-71bc38d1ba0b",
   "metadata": {
    "id": "72bee095-9dd9-40ac-bdf8-71bc38d1ba0b"
   },
   "source": [
    "- Unikal dəyərlərdən ibarət olan array-də 2-ə bərabər və ya böyük dəyərləri \"2-ə bərabər və ya böyük\" 2-dən kiçik dəyərləri isə \"2-dən kiçik\" kimi əvəzlə"
   ]
  },
  {
   "cell_type": "code",
   "execution_count": 70,
   "id": "d848974d-1a6a-4b9a-849c-c85d37082f54",
   "metadata": {
    "colab": {
     "base_uri": "https://localhost:8080/"
    },
    "id": "d848974d-1a6a-4b9a-849c-c85d37082f54",
    "outputId": "346b9ab4-1dbc-4cff-8084-41b93516b948"
   },
   "outputs": [
    {
     "output_type": "execute_result",
     "data": {
      "text/plain": [
       "array(['2-dən kiçik', '2-dən kiçik', '2-ə bərabər və ya böyük',\n",
       "       '2-ə bərabər və ya böyük', '2-ə bərabər və ya böyük',\n",
       "       '2-ə bərabər və ya böyük', '2-ə bərabər və ya böyük',\n",
       "       '2-ə bərabər və ya böyük', '2-ə bərabər və ya böyük',\n",
       "       '2-ə bərabər və ya böyük', '2-ə bərabər və ya böyük',\n",
       "       '2-ə bərabər və ya böyük', '2-ə bərabər və ya böyük',\n",
       "       '2-ə bərabər və ya böyük', '2-ə bərabər və ya böyük',\n",
       "       '2-ə bərabər və ya böyük', '2-ə bərabər və ya böyük',\n",
       "       '2-ə bərabər və ya böyük', '2-ə bərabər və ya böyük',\n",
       "       '2-ə bərabər və ya böyük', '2-ə bərabər və ya böyük',\n",
       "       '2-ə bərabər və ya böyük', '2-ə bərabər və ya böyük',\n",
       "       '2-ə bərabər və ya böyük'], dtype='<U23')"
      ]
     },
     "metadata": {},
     "execution_count": 70
    }
   ],
   "source": [
    "array = np.where(unique_array >= 2, \"2-ə bərabər və ya böyük\", \"2-dən kiçik\")\n",
    "array"
   ]
  },
  {
   "cell_type": "markdown",
   "id": "bbfaee9b-0363-477e-9c97-4c387487942e",
   "metadata": {
    "id": "bbfaee9b-0363-477e-9c97-4c387487942e"
   },
   "source": [
    "***\n",
    "### Tapşırıq #3\n",
    "- Dəyərləri 1-dən 24-ə kimi (24 daxildir) 4 sətir və 6 sütundan ibarət array yarat"
   ]
  },
  {
   "cell_type": "code",
   "execution_count": 72,
   "id": "1908f187-e33a-4cfa-95c0-8cd3ab1328f1",
   "metadata": {
    "colab": {
     "base_uri": "https://localhost:8080/"
    },
    "id": "1908f187-e33a-4cfa-95c0-8cd3ab1328f1",
    "outputId": "d46cde13-1393-4d8a-bcc9-2534eff90c4a"
   },
   "outputs": [
    {
     "output_type": "execute_result",
     "data": {
      "text/plain": [
       "array([[ 1,  2,  3,  4,  5,  6],\n",
       "       [ 7,  8,  9, 10, 11, 12],\n",
       "       [13, 14, 15, 16, 17, 18],\n",
       "       [19, 20, 21, 22, 23, 24]])"
      ]
     },
     "metadata": {},
     "execution_count": 72
    }
   ],
   "source": [
    "array = np.arange(1, 25).reshape((4, 6))\n",
    "array"
   ]
  },
  {
   "cell_type": "markdown",
   "id": "549fdb9d-7784-431d-a6c5-ad5291955785",
   "metadata": {
    "id": "549fdb9d-7784-431d-a6c5-ad5291955785"
   },
   "source": [
    "- Array-də ilk sətirin sonuncu dəyərini və son sətrin ilk dəyərini filterlə"
   ]
  },
  {
   "cell_type": "code",
   "execution_count": 74,
   "id": "449a5141-ff6d-4ad1-8ad1-a6f82a991e0a",
   "metadata": {
    "colab": {
     "base_uri": "https://localhost:8080/"
    },
    "id": "449a5141-ff6d-4ad1-8ad1-a6f82a991e0a",
    "outputId": "8bb0fd44-3a47-4805-be98-250a3bd77f32"
   },
   "outputs": [
    {
     "output_type": "stream",
     "name": "stdout",
     "text": [
      "Ilk sətirin sonuncu dəyəri: 6\n",
      "Son sətrin ilk dəyəri: 19\n"
     ]
    }
   ],
   "source": [
    "print(f\"Ilk sətirin sonuncu dəyəri: {array[0][-1]}\")\n",
    "print(f\"Son sətrin ilk dəyəri: {array[-1][0]}\")"
   ]
  },
  {
   "cell_type": "markdown",
   "id": "d1fde534-3455-47fc-8d03-cb17fed9f9c3",
   "metadata": {
    "id": "d1fde534-3455-47fc-8d03-cb17fed9f9c3"
   },
   "source": [
    "- Array-də ilk sətirin və 3-cü sətirlərin son 3 dəyərini filterlə"
   ]
  },
  {
   "cell_type": "code",
   "execution_count": 75,
   "id": "a6b3c83c-4fbc-463e-8268-f76a8f4d8c3c",
   "metadata": {
    "colab": {
     "base_uri": "https://localhost:8080/"
    },
    "id": "a6b3c83c-4fbc-463e-8268-f76a8f4d8c3c",
    "outputId": "8d92d0aa-5d5c-4f65-c430-2ab72cc88849"
   },
   "outputs": [
    {
     "output_type": "stream",
     "name": "stdout",
     "text": [
      "Ilk sətirin son 3 dəyəri: [4 5 6]\n",
      "Üçüncü sətrin son 3  dəyəri: [16 17 18]\n"
     ]
    }
   ],
   "source": [
    "print(f\"Ilk sətirin son 3 dəyəri: {array[0][-3:]}\")\n",
    "print(f\"Üçüncü sətrin son 3  dəyəri: {array[2][-3:]}\")"
   ]
  },
  {
   "cell_type": "markdown",
   "id": "85d892b2-9277-4140-b889-458a034c113f",
   "metadata": {
    "id": "85d892b2-9277-4140-b889-458a034c113f"
   },
   "source": [
    "- Array-də bütün sətirlərin və 3-cü və 4-cü dəyərlərini filterlə"
   ]
  },
  {
   "cell_type": "code",
   "execution_count": 79,
   "id": "a9366846-7cf6-4f9c-8882-7268a5a8059a",
   "metadata": {
    "colab": {
     "base_uri": "https://localhost:8080/"
    },
    "id": "a9366846-7cf6-4f9c-8882-7268a5a8059a",
    "outputId": "0dd5eb12-c70e-45c4-af56-5bc0f7ee7d73"
   },
   "outputs": [
    {
     "output_type": "stream",
     "name": "stdout",
     "text": [
      "Array-də bütün sətirlərin və 3-cü və 4-cü dəyərləri: [[ 4  5]\n",
      " [10 11]\n",
      " [16 17]\n",
      " [22 23]]\n"
     ]
    }
   ],
   "source": [
    "print(f\"Array-də bütün sətirlərin və 3-cü və 4-cü dəyərləri: {array[:, [3, 4]]}\")"
   ]
  },
  {
   "cell_type": "markdown",
   "id": "18879471-2829-4829-b633-03356da591c6",
   "metadata": {
    "id": "18879471-2829-4829-b633-03356da591c6"
   },
   "source": [
    "- Array-də maksimum dəyəri göstər"
   ]
  },
  {
   "cell_type": "code",
   "execution_count": 82,
   "id": "eb10e631-c0e8-4a76-abba-30de47427de7",
   "metadata": {
    "colab": {
     "base_uri": "https://localhost:8080/"
    },
    "id": "eb10e631-c0e8-4a76-abba-30de47427de7",
    "outputId": "18b95443-64ea-4592-fac9-46c379cc9fc1"
   },
   "outputs": [
    {
     "output_type": "stream",
     "name": "stdout",
     "text": [
      "Array-də maksimum dəyəri: 24\n"
     ]
    }
   ],
   "source": [
    "print(f\"Array-də maksimum dəyəri: {array.max()}\")"
   ]
  },
  {
   "cell_type": "markdown",
   "id": "92aceae2-1805-4ba5-8e13-a210d239f492",
   "metadata": {
    "id": "92aceae2-1805-4ba5-8e13-a210d239f492"
   },
   "source": [
    "- Array-də minimum dəyəri göstər"
   ]
  },
  {
   "cell_type": "code",
   "execution_count": 83,
   "id": "dc71e508-4f1e-4598-b228-6409e4062a25",
   "metadata": {
    "colab": {
     "base_uri": "https://localhost:8080/"
    },
    "id": "dc71e508-4f1e-4598-b228-6409e4062a25",
    "outputId": "0511585a-3cd1-42c2-fcdf-5043586d9e12"
   },
   "outputs": [
    {
     "output_type": "stream",
     "name": "stdout",
     "text": [
      "Array-də maksimum dəyəri: 1\n"
     ]
    }
   ],
   "source": [
    "print(f\"Array-də maksimum dəyəri: {array.min()}\")"
   ]
  },
  {
   "cell_type": "markdown",
   "id": "11f00b7d-ab05-4af9-b222-97d6bad543ee",
   "metadata": {
    "id": "11f00b7d-ab05-4af9-b222-97d6bad543ee"
   },
   "source": [
    "- Array-də ortalama dəyəri göstər"
   ]
  },
  {
   "cell_type": "code",
   "execution_count": 84,
   "id": "c651e02b-97ec-45a8-ad6f-25169becdf2b",
   "metadata": {
    "colab": {
     "base_uri": "https://localhost:8080/"
    },
    "id": "c651e02b-97ec-45a8-ad6f-25169becdf2b",
    "outputId": "3c49bcee-4be8-48de-ed50-9c400d871f19"
   },
   "outputs": [
    {
     "output_type": "stream",
     "name": "stdout",
     "text": [
      "Array-də ortalama dəyəri göstər: 12.5\n"
     ]
    }
   ],
   "source": [
    "print(f\"Array-də ortalama dəyəri göstər: {array.mean()}\")"
   ]
  },
  {
   "cell_type": "markdown",
   "id": "1cee9807-df88-4355-96dd-0d8c310bb671",
   "metadata": {
    "id": "1cee9807-df88-4355-96dd-0d8c310bb671"
   },
   "source": [
    "- Array-də median dəyəri göstər"
   ]
  },
  {
   "cell_type": "code",
   "execution_count": 87,
   "id": "3e115ce8-3f77-4867-97f4-70efe3b7e369",
   "metadata": {
    "colab": {
     "base_uri": "https://localhost:8080/"
    },
    "id": "3e115ce8-3f77-4867-97f4-70efe3b7e369",
    "outputId": "7a0dcb98-bab2-461f-f278-c3fbf1f59308"
   },
   "outputs": [
    {
     "output_type": "stream",
     "name": "stdout",
     "text": [
      "Array-də median dəyəri göstər: 12.5\n"
     ]
    }
   ],
   "source": [
    "print(f\"Array-də median dəyəri göstər: {np.median(array)}\")"
   ]
  },
  {
   "cell_type": "markdown",
   "id": "3f917195-56fb-4f10-83ab-c9fa170d56aa",
   "metadata": {
    "id": "3f917195-56fb-4f10-83ab-c9fa170d56aa"
   },
   "source": [
    "- Təsadüfi 10 integer dəyərdən ibarət, minimum ala biləcəyi dəyər 10 maksimum ala biləcəyi dəyər isə 100 ola biləcək array yarat"
   ]
  },
  {
   "cell_type": "code",
   "execution_count": 88,
   "id": "a6b8b0a7-2f92-4adb-8410-e4d25a2c21a5",
   "metadata": {
    "colab": {
     "base_uri": "https://localhost:8080/"
    },
    "id": "a6b8b0a7-2f92-4adb-8410-e4d25a2c21a5",
    "outputId": "ac98a80f-c77c-4586-e0db-158850013d98"
   },
   "outputs": [
    {
     "output_type": "execute_result",
     "data": {
      "text/plain": [
       "array([61, 24, 81, 70, 30, 92, 96, 84, 84, 97])"
      ]
     },
     "metadata": {},
     "execution_count": 88
    }
   ],
   "source": [
    "np.random.seed(seed = 42)\n",
    "\n",
    "random_array = np.random.randint(low = 10, high = 100, size=10)\n",
    "random_array"
   ]
  },
  {
   "cell_type": "markdown",
   "id": "8cbc324a-4838-4cc7-8781-10f8870cbc3c",
   "metadata": {
    "id": "8cbc324a-4838-4cc7-8781-10f8870cbc3c"
   },
   "source": [
    "- Bu array-də maksimum dəyərin indeksini göstər"
   ]
  },
  {
   "cell_type": "code",
   "execution_count": 92,
   "id": "5fa32d53-da96-467a-aa05-af21e52ac7a0",
   "metadata": {
    "colab": {
     "base_uri": "https://localhost:8080/"
    },
    "id": "5fa32d53-da96-467a-aa05-af21e52ac7a0",
    "outputId": "b6f29b5f-4da3-462b-bf0d-81d094fe03b6"
   },
   "outputs": [
    {
     "output_type": "stream",
     "name": "stdout",
     "text": [
      "Array-də maksimum dəyərin indeksi: 9\n",
      "Array-də maksimum dəyər: 97\n",
      "Array-də maksimum dəyər: 97\n"
     ]
    }
   ],
   "source": [
    "print(f\"Array-də maksimum dəyərin indeksi: {random_array.argmax()}\")\n",
    "print(f\"Array-də maksimum dəyər: {random_array.max()}\")\n",
    "print(f\"Array-də maksimum dəyər: {random_array[random_array.argmax()]}\")"
   ]
  },
  {
   "cell_type": "markdown",
   "id": "2d5117db-90f5-4797-b156-b3dc9dc80cba",
   "metadata": {
    "id": "2d5117db-90f5-4797-b156-b3dc9dc80cba"
   },
   "source": [
    "- Bu array-də minimum dəyərin indeksini göstər"
   ]
  },
  {
   "cell_type": "code",
   "execution_count": 93,
   "id": "0844850c-a942-4cde-bad7-6c9b6c4de0e4",
   "metadata": {
    "colab": {
     "base_uri": "https://localhost:8080/"
    },
    "id": "0844850c-a942-4cde-bad7-6c9b6c4de0e4",
    "outputId": "9ebb49fd-a321-4db2-fe23-d2919a54f1ae"
   },
   "outputs": [
    {
     "output_type": "stream",
     "name": "stdout",
     "text": [
      "Array-də maksimum dəyərin indeksi: 1\n",
      "Array-də maksimum dəyər: 24\n",
      "Array-də maksimum dəyər: 24\n"
     ]
    }
   ],
   "source": [
    "print(f\"Array-də maksimum dəyərin indeksi: {random_array.argmin()}\")\n",
    "print(f\"Array-də maksimum dəyər: {random_array.min()}\")\n",
    "print(f\"Array-də maksimum dəyər: {random_array[random_array.argmin()]}\")"
   ]
  },
  {
   "cell_type": "markdown",
   "id": "5de45500-1f37-4ccd-8b6f-dd7f856cfdf8",
   "metadata": {
    "id": "5de45500-1f37-4ccd-8b6f-dd7f856cfdf8"
   },
   "source": [
    "***\n",
    "### Tapşırıq #4\n",
    "- Dəyərləri Əsəd, Gülnar, Anar və Rəna-dan ibarət olan array yarat"
   ]
  },
  {
   "cell_type": "code",
   "execution_count": 104,
   "id": "635e0d83-39c3-4315-b83a-9e43e3a675bb",
   "metadata": {
    "colab": {
     "base_uri": "https://localhost:8080/"
    },
    "id": "635e0d83-39c3-4315-b83a-9e43e3a675bb",
    "outputId": "439527a8-c1e7-487d-8066-2038fed02d0b"
   },
   "outputs": [
    {
     "output_type": "execute_result",
     "data": {
      "text/plain": [
       "array(['Əsəd', 'Gülnar', 'Anar', 'Rəna'], dtype='<U6')"
      ]
     },
     "metadata": {},
     "execution_count": 104
    }
   ],
   "source": [
    "array = np.array(['Əsəd', 'Gülnar', 'Anar', 'Rəna'])\n",
    "array"
   ]
  },
  {
   "cell_type": "markdown",
   "id": "935dcd91-129b-410e-93c3-11b2f5cda9e1",
   "metadata": {
    "id": "935dcd91-129b-410e-93c3-11b2f5cda9e1"
   },
   "source": [
    "- Array-də olan bütün adların ilk hərfini kiçilt"
   ]
  },
  {
   "cell_type": "code",
   "execution_count": 105,
   "id": "afd983b8-db20-4fab-9ac1-65b8a5cf0574",
   "metadata": {
    "colab": {
     "base_uri": "https://localhost:8080/"
    },
    "id": "afd983b8-db20-4fab-9ac1-65b8a5cf0574",
    "outputId": "aff9b6a7-2394-4f76-80c5-2cf05e47540a"
   },
   "outputs": [
    {
     "output_type": "execute_result",
     "data": {
      "text/plain": [
       "array(['əsəd', 'gülnar', 'anar', 'rəna'], dtype='<U6')"
      ]
     },
     "metadata": {},
     "execution_count": 105
    }
   ],
   "source": [
    "array = np.array([i[0].lower() + i[1:] for i in array])\n",
    "array"
   ]
  },
  {
   "cell_type": "markdown",
   "id": "10f7dc84-6afc-4b1a-ae46-08081e3cb359",
   "metadata": {
    "id": "10f7dc84-6afc-4b1a-ae46-08081e3cb359"
   },
   "source": [
    "- Array-də olan bütün adların bütün hərflərini böyüt"
   ]
  },
  {
   "cell_type": "code",
   "execution_count": 109,
   "id": "ffab28b5-3358-4b82-9e5b-0d7bf6ac6cd6",
   "metadata": {
    "colab": {
     "base_uri": "https://localhost:8080/"
    },
    "id": "ffab28b5-3358-4b82-9e5b-0d7bf6ac6cd6",
    "outputId": "49c67119-d507-4946-8c5e-204a0e830f60"
   },
   "outputs": [
    {
     "output_type": "execute_result",
     "data": {
      "text/plain": [
       "array(['ƏSƏD', 'GÜLNAR', 'ANAR', 'RƏNA'], dtype='<U6')"
      ]
     },
     "metadata": {},
     "execution_count": 109
    }
   ],
   "source": [
    "array = np.char.upper(array)\n",
    "array"
   ]
  },
  {
   "cell_type": "markdown",
   "id": "3b0f5297-a36a-4e9f-8670-49a61296ea6e",
   "metadata": {
    "id": "3b0f5297-a36a-4e9f-8670-49a61296ea6e"
   },
   "source": [
    "- Array-də olan bütün adların ilk hərfini böyük saxla qalan hərfləri kiçilt"
   ]
  },
  {
   "cell_type": "code",
   "execution_count": 110,
   "id": "0c14974e-8374-4bb5-b257-5312da93545e",
   "metadata": {
    "colab": {
     "base_uri": "https://localhost:8080/"
    },
    "id": "0c14974e-8374-4bb5-b257-5312da93545e",
    "outputId": "7f4591f9-9a96-4683-f97b-d77c8aaa0be2"
   },
   "outputs": [
    {
     "output_type": "execute_result",
     "data": {
      "text/plain": [
       "array(['Əsəd', 'Gülnar', 'Anar', 'Rəna'], dtype='<U6')"
      ]
     },
     "metadata": {},
     "execution_count": 110
    }
   ],
   "source": [
    "array = np.char.capitalize(array)\n",
    "array"
   ]
  },
  {
   "cell_type": "markdown",
   "id": "a0f863f3-4334-48c5-a708-f20d38b131d4",
   "metadata": {
    "id": "a0f863f3-4334-48c5-a708-f20d38b131d4"
   },
   "source": [
    "- Array-də A hərfi ilə başlayan adı filterlə"
   ]
  },
  {
   "cell_type": "code",
   "execution_count": 114,
   "id": "a7dfccd6-d426-46ea-a5b6-3f0fed289b7a",
   "metadata": {
    "colab": {
     "base_uri": "https://localhost:8080/"
    },
    "id": "a7dfccd6-d426-46ea-a5b6-3f0fed289b7a",
    "outputId": "c63891f3-ce92-47a0-ad9a-16c29b7a052b"
   },
   "outputs": [
    {
     "output_type": "execute_result",
     "data": {
      "text/plain": [
       "array(['Anar'], dtype='<U6')"
      ]
     },
     "metadata": {},
     "execution_count": 114
    }
   ],
   "source": [
    "array[np.char.startswith(array, \"A\")]"
   ]
  },
  {
   "cell_type": "markdown",
   "id": "5a29deee-a87d-4cce-ae68-e2a0d4333683",
   "metadata": {
    "id": "5a29deee-a87d-4cce-ae68-e2a0d4333683"
   },
   "source": [
    "- Array-də r hərfi ilə bitən ad(ları) filterlə"
   ]
  },
  {
   "cell_type": "code",
   "execution_count": 115,
   "id": "baabdd7c-e73f-4f24-b7cf-cf5ba35c5567",
   "metadata": {
    "colab": {
     "base_uri": "https://localhost:8080/"
    },
    "id": "baabdd7c-e73f-4f24-b7cf-cf5ba35c5567",
    "outputId": "710424d2-e422-454e-aa9b-17c13899f53a"
   },
   "outputs": [
    {
     "output_type": "execute_result",
     "data": {
      "text/plain": [
       "array(['Gülnar', 'Anar'], dtype='<U6')"
      ]
     },
     "metadata": {},
     "execution_count": 115
    }
   ],
   "source": [
    "array[np.char.endswith(array, \"r\")]"
   ]
  }
 ],
 "metadata": {
  "kernelspec": {
   "display_name": "Python 3 (ipykernel)",
   "language": "python",
   "name": "python3"
  },
  "language_info": {
   "codemirror_mode": {
    "name": "ipython",
    "version": 3
   },
   "file_extension": ".py",
   "mimetype": "text/x-python",
   "name": "python",
   "nbconvert_exporter": "python",
   "pygments_lexer": "ipython3",
   "version": "3.9.7"
  },
  "colab": {
   "provenance": []
  }
 },
 "nbformat": 4,
 "nbformat_minor": 5
}
